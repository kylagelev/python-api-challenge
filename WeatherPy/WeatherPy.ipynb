{
 "cells": [
  {
   "cell_type": "code",
   "execution_count": 1,
   "metadata": {},
   "outputs": [],
   "source": [
    "import matplotlib.pyplot as plt\n",
    "import pandas as pd\n",
    "import numpy as np\n",
    "import requests\n",
    "import json\n",
    "import time\n",
    "from scipy.stats import linregress\n",
    "from config_weather import weather_api_key"
   ]
  },
  {
   "cell_type": "code",
   "execution_count": 2,
   "metadata": {},
   "outputs": [
    {
     "name": "stdout",
     "output_type": "stream",
     "text": [
      "Requirement already satisfied: citipy in /Users/kylagelev/opt/anaconda3/lib/python3.8/site-packages (0.0.5)\n",
      "Requirement already satisfied: kdtree>=0.12 in /Users/kylagelev/opt/anaconda3/lib/python3.8/site-packages (from citipy) (0.16)\n",
      "Note: you may need to restart the kernel to use updated packages.\n"
     ]
    }
   ],
   "source": [
    "pip install citipy"
   ]
  },
  {
   "cell_type": "code",
   "execution_count": 3,
   "metadata": {},
   "outputs": [],
   "source": [
    "from citipy import citipy"
   ]
  },
  {
   "cell_type": "code",
   "execution_count": 4,
   "metadata": {},
   "outputs": [],
   "source": [
    "# Output File (CSV)\n",
    "output_data_file = \"output_data/cities.csv\"\n",
    "\n",
    "# Range of latitudes and longitudes\n",
    "lat_range = (-90, 90)\n",
    "lng_range = (-180, 180)"
   ]
  },
  {
   "cell_type": "code",
   "execution_count": 5,
   "metadata": {},
   "outputs": [
    {
     "data": {
      "text/plain": [
       "630"
      ]
     },
     "execution_count": 5,
     "metadata": {},
     "output_type": "execute_result"
    }
   ],
   "source": [
    "# List for holding lat_lngs and cities\n",
    "lat_lngs = []\n",
    "cities = []\n",
    "\n",
    "# Create a set of random lat and lng combinations\n",
    "lats = np.random.uniform(lat_range[0], lat_range[1], size=1500)\n",
    "lngs = np.random.uniform(lng_range[0], lng_range[1], size=1500)\n",
    "lat_lngs = zip(lats, lngs)\n",
    "\n",
    "# Identify nearest city for each lat, lng combination\n",
    "for lat_lng in lat_lngs:\n",
    "    city = citipy.nearest_city(lat_lng[0], lat_lng[1]).city_name\n",
    "    \n",
    "    # If the city is unique, then add it to a our cities list\n",
    "    if city not in cities:\n",
    "        cities.append(city)\n",
    "\n",
    "# Print the city count to confirm sufficient count\n",
    "len(cities)"
   ]
  },
  {
   "cell_type": "code",
   "execution_count": 6,
   "metadata": {},
   "outputs": [
    {
     "name": "stdout",
     "output_type": "stream",
     "text": [
      "{\n",
      "    \"base\": \"stations\",\n",
      "    \"clouds\": {\n",
      "        \"all\": 67\n",
      "    },\n",
      "    \"cod\": 200,\n",
      "    \"coord\": {\n",
      "        \"lat\": -42.7826,\n",
      "        \"lon\": 147.0587\n",
      "    },\n",
      "    \"dt\": 1611637867,\n",
      "    \"id\": 2155415,\n",
      "    \"main\": {\n",
      "        \"feels_like\": 56.68,\n",
      "        \"humidity\": 47,\n",
      "        \"pressure\": 1002,\n",
      "        \"temp\": 61.03,\n",
      "        \"temp_max\": 68,\n",
      "        \"temp_min\": 57\n",
      "    },\n",
      "    \"name\": \"New Norfolk\",\n",
      "    \"sys\": {\n",
      "        \"country\": \"AU\",\n",
      "        \"id\": 2031307,\n",
      "        \"sunrise\": 1611601546,\n",
      "        \"sunset\": 1611654147,\n",
      "        \"type\": 3\n",
      "    },\n",
      "    \"timezone\": 39600,\n",
      "    \"visibility\": 10000,\n",
      "    \"weather\": [\n",
      "        {\n",
      "            \"description\": \"broken clouds\",\n",
      "            \"icon\": \"04d\",\n",
      "            \"id\": 803,\n",
      "            \"main\": \"Clouds\"\n",
      "        }\n",
      "    ],\n",
      "    \"wind\": {\n",
      "        \"deg\": 335,\n",
      "        \"gust\": 11.01,\n",
      "        \"speed\": 4\n",
      "    }\n",
      "}\n"
     ]
    },
    {
     "data": {
      "text/plain": [
       "'{\\n    \"base\": \"stations\",\\n    \"clouds\": {\\n        \"all\": 67\\n    },\\n    \"cod\": 200,\\n    \"coord\": {\\n        \"lat\": -42.7826,\\n        \"lon\": 147.0587\\n    },\\n    \"dt\": 1611637867,\\n    \"id\": 2155415,\\n    \"main\": {\\n        \"feels_like\": 56.68,\\n        \"humidity\": 47,\\n        \"pressure\": 1002,\\n        \"temp\": 61.03,\\n        \"temp_max\": 68,\\n        \"temp_min\": 57\\n    },\\n    \"name\": \"New Norfolk\",\\n    \"sys\": {\\n        \"country\": \"AU\",\\n        \"id\": 2031307,\\n        \"sunrise\": 1611601546,\\n        \"sunset\": 1611654147,\\n        \"type\": 3\\n    },\\n    \"timezone\": 39600,\\n    \"visibility\": 10000,\\n    \"weather\": [\\n        {\\n            \"description\": \"broken clouds\",\\n            \"icon\": \"04d\",\\n            \"id\": 803,\\n            \"main\": \"Clouds\"\\n        }\\n    ],\\n    \"wind\": {\\n        \"deg\": 335,\\n        \"gust\": 11.01,\\n        \"speed\": 4\\n    }\\n}'"
      ]
     },
     "execution_count": 6,
     "metadata": {},
     "output_type": "execute_result"
    }
   ],
   "source": [
    "#setting up test city\n",
    "#so layed out one city set to get the specific directions to draw that specific data out as shown below\n",
    "url = 'http://api.openweathermap.org/data/2.5/weather?'\n",
    "units = 'imperial'\n",
    "num_city = 0\n",
    "set_num = 1\n",
    "name_of_city = cities[0]\n",
    "\n",
    "query_url = f'{url}appid={weather_api_key}&q={name_of_city}&units={units}'\n",
    "weather_response = requests.get(query_url)\n",
    "weather_json = weather_response.json()\n",
    "print(json.dumps(weather_json, indent=4, sort_keys=True))\n",
    "\n",
    "#want: city, Lat, Lng, Max Temp, Humidity, Cloudiness, Wind Speed, Country, Date"
   ]
  },
  {
   "cell_type": "code",
   "execution_count": null,
   "metadata": {},
   "outputs": [
    {
     "name": "stdout",
     "output_type": "stream",
     "text": [
      "Beginning Data Retrieval\n",
      "-----------------------------\n",
      "Processing Record 1 of Set 1 |New norfolk\n",
      "Processing Record 2 of Set 1 |Cayenne\n",
      "Processing Record 3 of Set 1 |Jamestown\n",
      "Processing Record 4 of Set 1 |Busselton\n",
      "Processing Record 5 of Set 1 |Makakilo city\n",
      "Processing Record 6 of Set 1 |Bjornevatn\n",
      "City \u001b[1m not \u001b[0m found. Skipping...\n",
      "Processing Record 7 of Set 2 |Skeldon\n",
      "Processing Record 8 of Set 2 |Cidreira\n",
      "Processing Record 9 of Set 2 |Slave lake\n",
      "Processing Record 10 of Set 2 |Duncan\n",
      "Processing Record 11 of Set 2 |Constitucion\n",
      "City \u001b[1m not \u001b[0m found. Skipping...\n",
      "City \u001b[1m not \u001b[0m found. Skipping...\n",
      "Processing Record 12 of Set 4 |Tiksi\n",
      "Processing Record 13 of Set 4 |Ancud\n",
      "Processing Record 14 of Set 4 |Bathsheba\n",
      "Processing Record 15 of Set 4 |Mugumu\n",
      "Processing Record 16 of Set 4 |Nikolskoye\n",
      "Processing Record 17 of Set 4 |Gitarama\n",
      "Processing Record 18 of Set 4 |Visby\n",
      "Processing Record 19 of Set 4 |Vila\n",
      "Processing Record 20 of Set 4 |Provideniya\n",
      "City \u001b[1m not \u001b[0m found. Skipping...\n",
      "Processing Record 21 of Set 5 |Rongcheng\n",
      "Processing Record 22 of Set 5 |Komatipoort\n",
      "Processing Record 23 of Set 5 |Bayan\n",
      "Processing Record 24 of Set 5 |Yining\n",
      "Processing Record 25 of Set 5 |Hawkesbury\n",
      "Processing Record 26 of Set 5 |Norman wells\n",
      "Processing Record 27 of Set 5 |Hilo\n",
      "Processing Record 28 of Set 5 |Kaili\n",
      "Processing Record 29 of Set 5 |Bredasdorp\n",
      "Processing Record 30 of Set 5 |Bambous virieux\n",
      "Processing Record 31 of Set 5 |Ushuaia\n",
      "City \u001b[1m not \u001b[0m found. Skipping...\n",
      "City \u001b[1m not \u001b[0m found. Skipping...\n",
      "Processing Record 32 of Set 7 |Iranshahr\n",
      "Processing Record 33 of Set 7 |Seydi\n",
      "Processing Record 34 of Set 7 |Vigrestad\n",
      "Processing Record 35 of Set 7 |Atuona\n",
      "Processing Record 36 of Set 7 |Chicama\n",
      "Processing Record 37 of Set 7 |Bluff\n",
      "Processing Record 38 of Set 7 |Kapaa\n",
      "Processing Record 39 of Set 7 |Rikitea\n",
      "Processing Record 40 of Set 7 |Georgetown\n",
      "Processing Record 41 of Set 7 |Revelstoke\n",
      "City \u001b[1m not \u001b[0m found. Skipping...\n",
      "Processing Record 42 of Set 8 |Srandakan\n",
      "Processing Record 43 of Set 8 |Flinders\n",
      "Processing Record 44 of Set 8 |El alto\n",
      "Processing Record 45 of Set 8 |Broken hill\n",
      "Processing Record 46 of Set 8 |Yellowknife\n",
      "Processing Record 47 of Set 8 |Codrington\n",
      "Processing Record 48 of Set 8 |Laje\n",
      "Processing Record 49 of Set 8 |Gat\n",
      "Processing Record 50 of Set 8 |Sorland\n",
      "Processing Record 51 of Set 8 |Jensen beach\n",
      "City \u001b[1m not \u001b[0m found. Skipping...\n",
      "Processing Record 52 of Set 9 |Chuy\n",
      "Processing Record 53 of Set 9 |Russell\n",
      "Processing Record 54 of Set 9 |Qaanaaq\n",
      "City \u001b[1m not \u001b[0m found. Skipping...\n",
      "Processing Record 55 of Set 10 |Albany\n",
      "Processing Record 56 of Set 10 |Alofi\n",
      "Processing Record 57 of Set 10 |Hermanus\n",
      "City \u001b[1m not \u001b[0m found. Skipping...\n",
      "Processing Record 58 of Set 11 |Cape town\n",
      "Processing Record 59 of Set 11 |Leningradskiy\n",
      "Processing Record 60 of Set 11 |Kozyatyn\n",
      "Processing Record 61 of Set 11 |Lebu\n",
      "Processing Record 62 of Set 11 |Punta arenas\n",
      "Processing Record 63 of Set 11 |Lavrentiya\n",
      "Processing Record 64 of Set 11 |Majalgaon\n",
      "Processing Record 65 of Set 11 |Kahului\n",
      "Processing Record 66 of Set 11 |Saldanha\n",
      "Processing Record 67 of Set 11 |Thompson\n",
      "Processing Record 68 of Set 11 |Jardim\n",
      "City \u001b[1m not \u001b[0m found. Skipping...\n"
     ]
    }
   ],
   "source": [
    "print(f'Beginning Data Retrieval')     \n",
    "print(f'-----------------------------')\n",
    "\n",
    "#making lists of data\n",
    "cities_names = []\n",
    "list_Lat = []\n",
    "list_Lng = []\n",
    "max_temps = []\n",
    "list_of_humidity = []\n",
    "cloudiness = []\n",
    "wind_speeds = []\n",
    "countries = []\n",
    "dates = []\n",
    "\n",
    "#from there, we want to go through each city in the list of cities\n",
    "#withdraw data for each city in query_url\n",
    "for city in cities:\n",
    "    try:\n",
    "        name_of_city = city\n",
    "        query_url = f'{url}appid={weather_api_key}&q={name_of_city}&units={units}'\n",
    "        weather_response = requests.get(query_url)\n",
    "        weather_json = weather_response.json()\n",
    "#collecting name of city\n",
    "        cities_names.append(name_of_city.capitalize())\n",
    "#collecting Lat of specific city in cities       \n",
    "        Lat = weather_json['coord']['lat']\n",
    "        list_Lat.append(Lat)\n",
    "#collecting Lng of specific city in cities\n",
    "        Lng = weather_json['coord']['lon']\n",
    "        list_Lng.append(Lng)\n",
    "#collecting max temp of specific city in cities\n",
    "        temp = weather_json['main']['temp_max']\n",
    "        max_temps.append(temp)\n",
    "#collecting humidity of specific city in cities\n",
    "        humidity = weather_json['main']['humidity']\n",
    "        list_of_humidity.append(humidity)\n",
    "#collecting cloudiness of specific city in cities\n",
    "        clouds = weather_json['clouds']['all']\n",
    "        cloudiness.append(clouds)\n",
    "#collecting wind speed of specific city in cities\n",
    "        wind = weather_json['wind']['speed']\n",
    "        wind_speeds.append(wind)\n",
    "#collecting country of specific city in cities\n",
    "        country = weather_json['sys']['country']\n",
    "        countries.append(country)\n",
    "#collecting date of specific city in cities\n",
    "        date = weather_json['dt']\n",
    "        dates.append(date)\n",
    "        \n",
    "        num_city = num_city + 1\n",
    "        print(f'Processing Record {num_city} of Set {set_num} |{city.capitalize()}')\n",
    "\n",
    "        \n",
    "    except:\n",
    "        bold = '\\033[1m not \\033[0m'\n",
    "        print(f'City {bold} found. Skipping...')\n",
    "        set_num = set_num + 1"
   ]
  },
  {
   "cell_type": "code",
   "execution_count": null,
   "metadata": {},
   "outputs": [],
   "source": []
  },
  {
   "cell_type": "code",
   "execution_count": null,
   "metadata": {},
   "outputs": [],
   "source": []
  }
 ],
 "metadata": {
  "kernelspec": {
   "display_name": "Python 3",
   "language": "python",
   "name": "python3"
  },
  "language_info": {
   "codemirror_mode": {
    "name": "ipython",
    "version": 3
   },
   "file_extension": ".py",
   "mimetype": "text/x-python",
   "name": "python",
   "nbconvert_exporter": "python",
   "pygments_lexer": "ipython3",
   "version": "3.8.5"
  }
 },
 "nbformat": 4,
 "nbformat_minor": 4
}
